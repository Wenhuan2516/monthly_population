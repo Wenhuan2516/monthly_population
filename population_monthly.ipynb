{
 "cells": [
  {
   "cell_type": "code",
   "execution_count": 1,
   "id": "4edbeade-b9ad-4fc1-892c-9e1b14354a78",
   "metadata": {},
   "outputs": [],
   "source": [
    "import dask.dataframe as ddf\n",
    "import pandas as pd\n",
    "import datetime\n",
    "import functools\n",
    "import seaborn as sns\n",
    "import matplotlib.pyplot as plt"
   ]
  },
  {
   "cell_type": "markdown",
   "id": "c343a157-3dfe-4b61-89f2-15b94fd99886",
   "metadata": {},
   "source": [
    "### uploade the population data"
   ]
  },
  {
   "cell_type": "code",
   "execution_count": 2,
   "id": "98c109ec-60e8-4a6e-a9f1-81c26c3ccab2",
   "metadata": {},
   "outputs": [
    {
     "data": {
      "text/html": [
       "<div>\n",
       "<style scoped>\n",
       "    .dataframe tbody tr th:only-of-type {\n",
       "        vertical-align: middle;\n",
       "    }\n",
       "\n",
       "    .dataframe tbody tr th {\n",
       "        vertical-align: top;\n",
       "    }\n",
       "\n",
       "    .dataframe thead th {\n",
       "        text-align: right;\n",
       "    }\n",
       "</style>\n",
       "<table border=\"1\" class=\"dataframe\">\n",
       "  <thead>\n",
       "    <tr style=\"text-align: right;\">\n",
       "      <th></th>\n",
       "      <th>year</th>\n",
       "      <th>fips</th>\n",
       "      <th>pop</th>\n",
       "    </tr>\n",
       "  </thead>\n",
       "  <tbody>\n",
       "    <tr>\n",
       "      <th>0</th>\n",
       "      <td>1969</td>\n",
       "      <td>01001</td>\n",
       "      <td>22289</td>\n",
       "    </tr>\n",
       "    <tr>\n",
       "      <th>1</th>\n",
       "      <td>1969</td>\n",
       "      <td>01003</td>\n",
       "      <td>53425</td>\n",
       "    </tr>\n",
       "    <tr>\n",
       "      <th>2</th>\n",
       "      <td>1969</td>\n",
       "      <td>01005</td>\n",
       "      <td>20120</td>\n",
       "    </tr>\n",
       "    <tr>\n",
       "      <th>3</th>\n",
       "      <td>1969</td>\n",
       "      <td>01007</td>\n",
       "      <td>13586</td>\n",
       "    </tr>\n",
       "    <tr>\n",
       "      <th>4</th>\n",
       "      <td>1969</td>\n",
       "      <td>01009</td>\n",
       "      <td>19544</td>\n",
       "    </tr>\n",
       "  </tbody>\n",
       "</table>\n",
       "</div>"
      ],
      "text/plain": [
       "   year   fips    pop\n",
       "0  1969  01001  22289\n",
       "1  1969  01003  53425\n",
       "2  1969  01005  20120\n",
       "3  1969  01007  13586\n",
       "4  1969  01009  19544"
      ]
     },
     "execution_count": 2,
     "metadata": {},
     "output_type": "execute_result"
    }
   ],
   "source": [
    "pop = ddf.read_csv('Population/population_1969-2020.csv', dtype = {'fips': str, 'year': str})\n",
    "pop = pop.compute()\n",
    "pop = pop.loc[:, ~pop.columns.str.contains('^Unnamed')]\n",
    "pop.head()"
   ]
  },
  {
   "cell_type": "code",
   "execution_count": 3,
   "id": "02f1dc44-ead2-4432-b6f3-bf89eda6aafa",
   "metadata": {},
   "outputs": [
    {
     "data": {
      "text/plain": [
       "(162334, 3)"
      ]
     },
     "execution_count": 3,
     "metadata": {},
     "output_type": "execute_result"
    }
   ],
   "source": [
    "pop.shape"
   ]
  },
  {
   "cell_type": "code",
   "execution_count": 4,
   "id": "15a025d2-3039-4167-80c2-135964dbe527",
   "metadata": {},
   "outputs": [],
   "source": [
    "previous = '2016'\n",
    "current = '2017'"
   ]
  },
  {
   "cell_type": "code",
   "execution_count": 5,
   "id": "be25163f-ada2-4729-a4c5-9cce180a2822",
   "metadata": {},
   "outputs": [
    {
     "data": {
      "text/plain": [
       "(3142, 3)"
      ]
     },
     "execution_count": 5,
     "metadata": {},
     "output_type": "execute_result"
    }
   ],
   "source": [
    "pop_previous = pop[(pop['year'] == previous)]\n",
    "pop_previous.shape"
   ]
  },
  {
   "cell_type": "code",
   "execution_count": 6,
   "id": "65c5c962-b47f-4357-820d-a683fe330840",
   "metadata": {},
   "outputs": [
    {
     "data": {
      "text/plain": [
       "(3142, 3)"
      ]
     },
     "execution_count": 6,
     "metadata": {},
     "output_type": "execute_result"
    }
   ],
   "source": [
    "pop_current = pop[(pop['year'] == current)]\n",
    "pop_current.shape"
   ]
  },
  {
   "cell_type": "code",
   "execution_count": 7,
   "id": "7f76f178-8d2e-431f-b272-bcd175c4d6d4",
   "metadata": {},
   "outputs": [
    {
     "data": {
      "text/plain": [
       "(6284, 3)"
      ]
     },
     "execution_count": 7,
     "metadata": {},
     "output_type": "execute_result"
    }
   ],
   "source": [
    "pop = pop[(pop['year'] == previous) | (pop['year'] == current)]\n",
    "pop.shape"
   ]
  },
  {
   "cell_type": "markdown",
   "id": "d9462d95-e41f-4c09-a670-3c824b9f298f",
   "metadata": {},
   "source": [
    "##### this means 3089 counties have population data in 1970-1979; there are 3102, 3108, \n",
    "##### or 3131, 3135 counties have population data since 1980"
   ]
  },
  {
   "cell_type": "markdown",
   "id": "c66ceab4-14a9-4a13-a875-b47cc984c21b",
   "metadata": {},
   "source": [
    "#### Calculate the population in each month by using linear interpolation method"
   ]
  },
  {
   "cell_type": "code",
   "execution_count": 8,
   "id": "77d77aca-73aa-4e30-aa79-4c86c1d13513",
   "metadata": {},
   "outputs": [
    {
     "data": {
      "text/html": [
       "<div>\n",
       "<style scoped>\n",
       "    .dataframe tbody tr th:only-of-type {\n",
       "        vertical-align: middle;\n",
       "    }\n",
       "\n",
       "    .dataframe tbody tr th {\n",
       "        vertical-align: top;\n",
       "    }\n",
       "\n",
       "    .dataframe thead th {\n",
       "        text-align: right;\n",
       "    }\n",
       "</style>\n",
       "<table border=\"1\" class=\"dataframe\">\n",
       "  <thead>\n",
       "    <tr style=\"text-align: right;\">\n",
       "      <th></th>\n",
       "      <th>year</th>\n",
       "      <th>fips</th>\n",
       "      <th>pop</th>\n",
       "    </tr>\n",
       "  </thead>\n",
       "  <tbody>\n",
       "    <tr>\n",
       "      <th>146624</th>\n",
       "      <td>2016</td>\n",
       "      <td>01001</td>\n",
       "      <td>54312</td>\n",
       "    </tr>\n",
       "    <tr>\n",
       "      <th>149766</th>\n",
       "      <td>2017</td>\n",
       "      <td>01001</td>\n",
       "      <td>49949</td>\n",
       "    </tr>\n",
       "    <tr>\n",
       "      <th>146625</th>\n",
       "      <td>2016</td>\n",
       "      <td>01003</td>\n",
       "      <td>186502</td>\n",
       "    </tr>\n",
       "    <tr>\n",
       "      <th>149767</th>\n",
       "      <td>2017</td>\n",
       "      <td>01003</td>\n",
       "      <td>200416</td>\n",
       "    </tr>\n",
       "    <tr>\n",
       "      <th>146626</th>\n",
       "      <td>2016</td>\n",
       "      <td>01005</td>\n",
       "      <td>23029</td>\n",
       "    </tr>\n",
       "  </tbody>\n",
       "</table>\n",
       "</div>"
      ],
      "text/plain": [
       "        year   fips     pop\n",
       "146624  2016  01001   54312\n",
       "149766  2017  01001   49949\n",
       "146625  2016  01003  186502\n",
       "149767  2017  01003  200416\n",
       "146626  2016  01005   23029"
      ]
     },
     "execution_count": 8,
     "metadata": {},
     "output_type": "execute_result"
    }
   ],
   "source": [
    "pop = pop.sort_values(['fips', 'year'])\n",
    "pop.head()"
   ]
  },
  {
   "cell_type": "code",
   "execution_count": 9,
   "id": "4cba39fc-d573-4c81-8150-46d91e21a514",
   "metadata": {},
   "outputs": [
    {
     "data": {
      "text/html": [
       "<div>\n",
       "<style scoped>\n",
       "    .dataframe tbody tr th:only-of-type {\n",
       "        vertical-align: middle;\n",
       "    }\n",
       "\n",
       "    .dataframe tbody tr th {\n",
       "        vertical-align: top;\n",
       "    }\n",
       "\n",
       "    .dataframe thead th {\n",
       "        text-align: right;\n",
       "    }\n",
       "</style>\n",
       "<table border=\"1\" class=\"dataframe\">\n",
       "  <thead>\n",
       "    <tr style=\"text-align: right;\">\n",
       "      <th></th>\n",
       "      <th>year</th>\n",
       "      <th>fips</th>\n",
       "      <th>pop</th>\n",
       "    </tr>\n",
       "  </thead>\n",
       "  <tbody>\n",
       "    <tr>\n",
       "      <th>152905</th>\n",
       "      <td>2017</td>\n",
       "      <td>56041</td>\n",
       "      <td>19711</td>\n",
       "    </tr>\n",
       "    <tr>\n",
       "      <th>149764</th>\n",
       "      <td>2016</td>\n",
       "      <td>56043</td>\n",
       "      <td>7649</td>\n",
       "    </tr>\n",
       "    <tr>\n",
       "      <th>152906</th>\n",
       "      <td>2017</td>\n",
       "      <td>56043</td>\n",
       "      <td>7473</td>\n",
       "    </tr>\n",
       "    <tr>\n",
       "      <th>149765</th>\n",
       "      <td>2016</td>\n",
       "      <td>56045</td>\n",
       "      <td>6013</td>\n",
       "    </tr>\n",
       "    <tr>\n",
       "      <th>152907</th>\n",
       "      <td>2017</td>\n",
       "      <td>56045</td>\n",
       "      <td>6404</td>\n",
       "    </tr>\n",
       "  </tbody>\n",
       "</table>\n",
       "</div>"
      ],
      "text/plain": [
       "        year   fips    pop\n",
       "152905  2017  56041  19711\n",
       "149764  2016  56043   7649\n",
       "152906  2017  56043   7473\n",
       "149765  2016  56045   6013\n",
       "152907  2017  56045   6404"
      ]
     },
     "execution_count": 9,
     "metadata": {},
     "output_type": "execute_result"
    }
   ],
   "source": [
    "pop.tail()"
   ]
  },
  {
   "cell_type": "code",
   "execution_count": 10,
   "id": "6d6e00f7-8908-45c0-a952-0d2c131ba8ea",
   "metadata": {},
   "outputs": [],
   "source": [
    "def findCommon(df1, df2):\n",
    "    fips1 = list(df1['fips'])\n",
    "    fips2 = list(df2['fips'])\n",
    "    row_valid = []\n",
    "    for item in fips2:\n",
    "        if item in fips1:\n",
    "            row_valid.append(item)\n",
    "    return row_valid"
   ]
  },
  {
   "cell_type": "code",
   "execution_count": 11,
   "id": "2b94c95c-3096-4c41-8470-d21b6dd867f2",
   "metadata": {},
   "outputs": [
    {
     "name": "stdout",
     "output_type": "stream",
     "text": [
      "3142\n"
     ]
    }
   ],
   "source": [
    "row_valid = findCommon(pop_previous, pop_current)\n",
    "print(len(row_valid))"
   ]
  },
  {
   "cell_type": "markdown",
   "id": "3ff5129a-25e2-402d-bb05-780bc10e38cd",
   "metadata": {},
   "source": [
    "#### when current year has more counties than previous year, drop off the extra counties"
   ]
  },
  {
   "cell_type": "code",
   "execution_count": 12,
   "id": "fe8b96e2-5dae-44e6-9ded-415230a1e268",
   "metadata": {},
   "outputs": [
    {
     "data": {
      "text/plain": [
       "(6284, 3)"
      ]
     },
     "execution_count": 12,
     "metadata": {},
     "output_type": "execute_result"
    }
   ],
   "source": [
    "pop = pop[pop['fips'].isin(row_valid)]\n",
    "pop.shape"
   ]
  },
  {
   "cell_type": "code",
   "execution_count": 13,
   "id": "e549bdaf-c74d-4d3a-b0b9-ed5adf8c10ad",
   "metadata": {},
   "outputs": [
    {
     "data": {
      "text/plain": [
       "3142"
      ]
     },
     "execution_count": 13,
     "metadata": {},
     "output_type": "execute_result"
    }
   ],
   "source": [
    "len(pop['fips'].unique())"
   ]
  },
  {
   "cell_type": "code",
   "execution_count": 14,
   "id": "dbab00d9-f49a-4cea-b4bb-a746ed5c28c4",
   "metadata": {},
   "outputs": [],
   "source": [
    "import numpy as np"
   ]
  },
  {
   "cell_type": "code",
   "execution_count": 15,
   "id": "72e156bb-4100-4e11-9985-04d0e52dc458",
   "metadata": {},
   "outputs": [],
   "source": [
    "pop.index = np.arange(1, len(pop) + 1)"
   ]
  },
  {
   "cell_type": "code",
   "execution_count": 16,
   "id": "91f4ea77-878c-4719-83e4-41b1a3d535ce",
   "metadata": {},
   "outputs": [
    {
     "data": {
      "text/html": [
       "<div>\n",
       "<style scoped>\n",
       "    .dataframe tbody tr th:only-of-type {\n",
       "        vertical-align: middle;\n",
       "    }\n",
       "\n",
       "    .dataframe tbody tr th {\n",
       "        vertical-align: top;\n",
       "    }\n",
       "\n",
       "    .dataframe thead th {\n",
       "        text-align: right;\n",
       "    }\n",
       "</style>\n",
       "<table border=\"1\" class=\"dataframe\">\n",
       "  <thead>\n",
       "    <tr style=\"text-align: right;\">\n",
       "      <th></th>\n",
       "      <th>year</th>\n",
       "      <th>fips</th>\n",
       "      <th>pop</th>\n",
       "    </tr>\n",
       "  </thead>\n",
       "  <tbody>\n",
       "    <tr>\n",
       "      <th>1</th>\n",
       "      <td>2016</td>\n",
       "      <td>01001</td>\n",
       "      <td>54312</td>\n",
       "    </tr>\n",
       "    <tr>\n",
       "      <th>2</th>\n",
       "      <td>2017</td>\n",
       "      <td>01001</td>\n",
       "      <td>49949</td>\n",
       "    </tr>\n",
       "    <tr>\n",
       "      <th>3</th>\n",
       "      <td>2016</td>\n",
       "      <td>01003</td>\n",
       "      <td>186502</td>\n",
       "    </tr>\n",
       "    <tr>\n",
       "      <th>4</th>\n",
       "      <td>2017</td>\n",
       "      <td>01003</td>\n",
       "      <td>200416</td>\n",
       "    </tr>\n",
       "    <tr>\n",
       "      <th>5</th>\n",
       "      <td>2016</td>\n",
       "      <td>01005</td>\n",
       "      <td>23029</td>\n",
       "    </tr>\n",
       "  </tbody>\n",
       "</table>\n",
       "</div>"
      ],
      "text/plain": [
       "   year   fips     pop\n",
       "1  2016  01001   54312\n",
       "2  2017  01001   49949\n",
       "3  2016  01003  186502\n",
       "4  2017  01003  200416\n",
       "5  2016  01005   23029"
      ]
     },
     "execution_count": 16,
     "metadata": {},
     "output_type": "execute_result"
    }
   ],
   "source": [
    "pop.head()"
   ]
  },
  {
   "cell_type": "code",
   "execution_count": 17,
   "id": "071eeb50-6359-4210-9b63-34231bf867c1",
   "metadata": {},
   "outputs": [],
   "source": [
    "pop = pop.reset_index()"
   ]
  },
  {
   "cell_type": "code",
   "execution_count": 18,
   "id": "6becef70-19d8-4f80-b25b-21dc6ac8ffb3",
   "metadata": {},
   "outputs": [
    {
     "data": {
      "text/html": [
       "<div>\n",
       "<style scoped>\n",
       "    .dataframe tbody tr th:only-of-type {\n",
       "        vertical-align: middle;\n",
       "    }\n",
       "\n",
       "    .dataframe tbody tr th {\n",
       "        vertical-align: top;\n",
       "    }\n",
       "\n",
       "    .dataframe thead th {\n",
       "        text-align: right;\n",
       "    }\n",
       "</style>\n",
       "<table border=\"1\" class=\"dataframe\">\n",
       "  <thead>\n",
       "    <tr style=\"text-align: right;\">\n",
       "      <th></th>\n",
       "      <th>index</th>\n",
       "      <th>year</th>\n",
       "      <th>fips</th>\n",
       "      <th>pop</th>\n",
       "    </tr>\n",
       "  </thead>\n",
       "  <tbody>\n",
       "    <tr>\n",
       "      <th>0</th>\n",
       "      <td>1</td>\n",
       "      <td>2016</td>\n",
       "      <td>01001</td>\n",
       "      <td>54312</td>\n",
       "    </tr>\n",
       "    <tr>\n",
       "      <th>1</th>\n",
       "      <td>2</td>\n",
       "      <td>2017</td>\n",
       "      <td>01001</td>\n",
       "      <td>49949</td>\n",
       "    </tr>\n",
       "    <tr>\n",
       "      <th>2</th>\n",
       "      <td>3</td>\n",
       "      <td>2016</td>\n",
       "      <td>01003</td>\n",
       "      <td>186502</td>\n",
       "    </tr>\n",
       "    <tr>\n",
       "      <th>3</th>\n",
       "      <td>4</td>\n",
       "      <td>2017</td>\n",
       "      <td>01003</td>\n",
       "      <td>200416</td>\n",
       "    </tr>\n",
       "    <tr>\n",
       "      <th>4</th>\n",
       "      <td>5</td>\n",
       "      <td>2016</td>\n",
       "      <td>01005</td>\n",
       "      <td>23029</td>\n",
       "    </tr>\n",
       "  </tbody>\n",
       "</table>\n",
       "</div>"
      ],
      "text/plain": [
       "   index  year   fips     pop\n",
       "0      1  2016  01001   54312\n",
       "1      2  2017  01001   49949\n",
       "2      3  2016  01003  186502\n",
       "3      4  2017  01003  200416\n",
       "4      5  2016  01005   23029"
      ]
     },
     "execution_count": 18,
     "metadata": {},
     "output_type": "execute_result"
    }
   ],
   "source": [
    "pop.head()"
   ]
  },
  {
   "cell_type": "code",
   "execution_count": 19,
   "id": "1ae1d3ae-f9ba-469d-89a1-7e093279ac5a",
   "metadata": {},
   "outputs": [],
   "source": [
    "def lableMonth(index):\n",
    "    if index % 2 == 1:\n",
    "        return 0\n",
    "    else:\n",
    "        return 12"
   ]
  },
  {
   "cell_type": "code",
   "execution_count": 20,
   "id": "fe30f218-a549-461a-8220-feea1bd210e8",
   "metadata": {},
   "outputs": [
    {
     "data": {
      "text/html": [
       "<div>\n",
       "<style scoped>\n",
       "    .dataframe tbody tr th:only-of-type {\n",
       "        vertical-align: middle;\n",
       "    }\n",
       "\n",
       "    .dataframe tbody tr th {\n",
       "        vertical-align: top;\n",
       "    }\n",
       "\n",
       "    .dataframe thead th {\n",
       "        text-align: right;\n",
       "    }\n",
       "</style>\n",
       "<table border=\"1\" class=\"dataframe\">\n",
       "  <thead>\n",
       "    <tr style=\"text-align: right;\">\n",
       "      <th></th>\n",
       "      <th>index</th>\n",
       "      <th>year</th>\n",
       "      <th>fips</th>\n",
       "      <th>pop</th>\n",
       "      <th>month</th>\n",
       "    </tr>\n",
       "  </thead>\n",
       "  <tbody>\n",
       "    <tr>\n",
       "      <th>0</th>\n",
       "      <td>1</td>\n",
       "      <td>2016</td>\n",
       "      <td>01001</td>\n",
       "      <td>54312</td>\n",
       "      <td>0</td>\n",
       "    </tr>\n",
       "    <tr>\n",
       "      <th>1</th>\n",
       "      <td>2</td>\n",
       "      <td>2017</td>\n",
       "      <td>01001</td>\n",
       "      <td>49949</td>\n",
       "      <td>12</td>\n",
       "    </tr>\n",
       "    <tr>\n",
       "      <th>2</th>\n",
       "      <td>3</td>\n",
       "      <td>2016</td>\n",
       "      <td>01003</td>\n",
       "      <td>186502</td>\n",
       "      <td>0</td>\n",
       "    </tr>\n",
       "    <tr>\n",
       "      <th>3</th>\n",
       "      <td>4</td>\n",
       "      <td>2017</td>\n",
       "      <td>01003</td>\n",
       "      <td>200416</td>\n",
       "      <td>12</td>\n",
       "    </tr>\n",
       "    <tr>\n",
       "      <th>4</th>\n",
       "      <td>5</td>\n",
       "      <td>2016</td>\n",
       "      <td>01005</td>\n",
       "      <td>23029</td>\n",
       "      <td>0</td>\n",
       "    </tr>\n",
       "  </tbody>\n",
       "</table>\n",
       "</div>"
      ],
      "text/plain": [
       "   index  year   fips     pop  month\n",
       "0      1  2016  01001   54312      0\n",
       "1      2  2017  01001   49949     12\n",
       "2      3  2016  01003  186502      0\n",
       "3      4  2017  01003  200416     12\n",
       "4      5  2016  01005   23029      0"
      ]
     },
     "execution_count": 20,
     "metadata": {},
     "output_type": "execute_result"
    }
   ],
   "source": [
    "pop['month'] = pop['index'].apply(lableMonth)\n",
    "pop.head()"
   ]
  },
  {
   "cell_type": "code",
   "execution_count": 21,
   "id": "d871c4b6-c8db-4cc0-8acf-f149c989924e",
   "metadata": {},
   "outputs": [],
   "source": [
    "def divideDataframe_example(df):\n",
    "    sliced_dfs = []\n",
    "    for i in range(0, len(df), 2):\n",
    "        df_slice = df.iloc[i:i+2]\n",
    "        df_slice['index'] = df_slice['month']\n",
    "        sliced_dfs.append(df_slice)\n",
    "    for i, df_slice in enumerate(sliced_dfs[:3]):\n",
    "        print(f\"DataFrame Slice {i+1}:\")\n",
    "        print(df_slice)\n",
    "        print()"
   ]
  },
  {
   "cell_type": "code",
   "execution_count": 22,
   "id": "637e4fcc-285d-4187-9844-bb6eb80b882a",
   "metadata": {},
   "outputs": [
    {
     "name": "stderr",
     "output_type": "stream",
     "text": [
      "/global/homes/w/wenhuan/.conda/envs/myenv/lib/python3.7/site-packages/ipykernel_launcher.py:5: SettingWithCopyWarning: \n",
      "A value is trying to be set on a copy of a slice from a DataFrame.\n",
      "Try using .loc[row_indexer,col_indexer] = value instead\n",
      "\n",
      "See the caveats in the documentation: https://pandas.pydata.org/pandas-docs/stable/user_guide/indexing.html#returning-a-view-versus-a-copy\n",
      "  \"\"\"\n"
     ]
    },
    {
     "name": "stdout",
     "output_type": "stream",
     "text": [
      "DataFrame Slice 1:\n",
      "   index  year   fips    pop  month\n",
      "0      0  2016  01001  54312      0\n",
      "1     12  2017  01001  49949     12\n",
      "\n",
      "DataFrame Slice 2:\n",
      "   index  year   fips     pop  month\n",
      "2      0  2016  01003  186502      0\n",
      "3     12  2017  01003  200416     12\n",
      "\n",
      "DataFrame Slice 3:\n",
      "   index  year   fips    pop  month\n",
      "4      0  2016  01005  23029      0\n",
      "5     12  2017  01005  24017     12\n",
      "\n"
     ]
    }
   ],
   "source": [
    "divideDataframe_example(pop)"
   ]
  },
  {
   "cell_type": "code",
   "execution_count": 23,
   "id": "86af6aba-3e4f-45dc-a4f3-472395f204ea",
   "metadata": {},
   "outputs": [],
   "source": [
    "def divideDataframe(df):\n",
    "    sliced_dfs = []\n",
    "    for i in range(0, len(df), 2):\n",
    "        df_slice = df.iloc[i:i+2]\n",
    "        df_slice['index'] = df_slice['month']\n",
    "        sliced_dfs.append(df_slice)\n",
    "    return sliced_dfs"
   ]
  },
  {
   "cell_type": "code",
   "execution_count": 24,
   "id": "d17b36b6-f623-4bc4-8c7f-f7afd0c979c6",
   "metadata": {},
   "outputs": [
    {
     "name": "stdout",
     "output_type": "stream",
     "text": [
      "    index  year   fips  population  month\n",
      "0       0  1969  01001        1000      0\n",
      "1       1  1970  01001        1100      1\n",
      "2       2  1970  01001        1200      2\n",
      "3       3  1970  01001        1300      3\n",
      "4       4  1970  01001        1400      4\n",
      "5       5  1970  01001        1500      5\n",
      "6       6  1970  01001        1600      6\n",
      "7       7  1970  01001        1700      7\n",
      "8       8  1970  01001        1800      8\n",
      "9       9  1970  01001        1900      9\n",
      "10     10  1970  01001        2000     10\n",
      "11     11  1970  01001        2100     11\n",
      "12     12  1970  01001        2200     12\n"
     ]
    }
   ],
   "source": [
    "import pandas as pd\n",
    "year1 = '1969'\n",
    "year2 = '1970'\n",
    "# Original DataFrame\n",
    "data = {'index': [0, 12], 'year': [year1, year2], 'fips': ['01001', '01001'], 'population': [1000, 2200], 'month': [0, 12]}\n",
    "df_slice = pd.DataFrame(data)\n",
    "\n",
    "def interpolate_population(df_slice):\n",
    "    new_data = {'index': [], 'year': [], 'fips': [], 'population': [], 'month': []}\n",
    "    \n",
    "    for i in range(len(df_slice) - 1):\n",
    "        start_month = df_slice.loc[i, 'month']\n",
    "        end_month = df_slice.loc[i+1, 'month']\n",
    "        start_population = df_slice.loc[i, 'population']\n",
    "        end_population = df_slice.loc[i+1, 'population']\n",
    "        year = df_slice.loc[i, 'year']\n",
    "        fips = df_slice.loc[i, 'fips']\n",
    "        \n",
    "        months_diff = end_month - start_month\n",
    "        population_diff = end_population - start_population\n",
    "        population_step = population_diff / months_diff\n",
    "\n",
    "        for month_offset in range(months_diff + 1):\n",
    "            new_data['index'].append(start_month + month_offset)\n",
    "            new_data['year'] = [year1, year2, year2, year2, year2, year2, year2, year2, year2, year2, year2, year2, year2]\n",
    "            new_data['fips'].append(fips)\n",
    "            new_data['population'].append(int(start_population + month_offset * population_step))\n",
    "            new_data['month'].append(start_month + month_offset)\n",
    "    \n",
    "    return pd.DataFrame(new_data)\n",
    "\n",
    "interpolated_df = interpolate_population(df_slice)\n",
    "print(interpolated_df)"
   ]
  },
  {
   "cell_type": "code",
   "execution_count": 25,
   "id": "eaaccefd-8547-4adf-bb87-1a67a7699ed3",
   "metadata": {},
   "outputs": [],
   "source": [
    "def linear_interpolation(slice):\n",
    "    years = list(slice['year'])\n",
    "    year1 = years[0]\n",
    "    year2 = years[1]\n",
    "    population = list(slice['pop'])\n",
    "    fips = list(slice['fips'])\n",
    "    data = {'index': [0, 12], 'year': [year1, year2], 'fips': fips, 'pop': population, 'month': [0, 12]}\n",
    "    df_slice = pd.DataFrame(data)\n",
    "    \n",
    "    new_data = {'index': [], 'year': [], 'fips': [], 'pop': [], 'month': []}\n",
    "    \n",
    "    for i in range(len(df_slice) - 1):\n",
    "        start_month = df_slice.loc[i, 'month']\n",
    "        end_month = df_slice.loc[i+1, 'month']\n",
    "        start_population = df_slice.loc[i, 'pop']\n",
    "        end_population = df_slice.loc[i+1, 'pop']\n",
    "        fips = df_slice.loc[i, 'fips']\n",
    "        \n",
    "        months_diff = end_month - start_month\n",
    "        population_diff = end_population - start_population\n",
    "        population_step = population_diff / months_diff\n",
    "        \n",
    "        for month_offset in range(months_diff + 1):\n",
    "            new_data['index'].append(start_month + month_offset)\n",
    "            new_data['year'] = [year1, year2, year2, year2, year2, year2, year2, year2, year2, year2, year2, year2, year2]\n",
    "            new_data['fips'].append(fips)\n",
    "            new_data['pop'].append(int(start_population + month_offset * population_step))\n",
    "            new_data['month'].append(start_month + month_offset)\n",
    "            \n",
    "    return pd.DataFrame(new_data)"
   ]
  },
  {
   "cell_type": "code",
   "execution_count": 26,
   "id": "19b77e12-e369-4e38-a5ae-cead7409e94c",
   "metadata": {},
   "outputs": [
    {
     "name": "stderr",
     "output_type": "stream",
     "text": [
      "/global/homes/w/wenhuan/.conda/envs/myenv/lib/python3.7/site-packages/ipykernel_launcher.py:5: SettingWithCopyWarning: \n",
      "A value is trying to be set on a copy of a slice from a DataFrame.\n",
      "Try using .loc[row_indexer,col_indexer] = value instead\n",
      "\n",
      "See the caveats in the documentation: https://pandas.pydata.org/pandas-docs/stable/user_guide/indexing.html#returning-a-view-versus-a-copy\n",
      "  \"\"\"\n"
     ]
    },
    {
     "data": {
      "text/html": [
       "<div>\n",
       "<style scoped>\n",
       "    .dataframe tbody tr th:only-of-type {\n",
       "        vertical-align: middle;\n",
       "    }\n",
       "\n",
       "    .dataframe tbody tr th {\n",
       "        vertical-align: top;\n",
       "    }\n",
       "\n",
       "    .dataframe thead th {\n",
       "        text-align: right;\n",
       "    }\n",
       "</style>\n",
       "<table border=\"1\" class=\"dataframe\">\n",
       "  <thead>\n",
       "    <tr style=\"text-align: right;\">\n",
       "      <th></th>\n",
       "      <th>index</th>\n",
       "      <th>year</th>\n",
       "      <th>fips</th>\n",
       "      <th>pop</th>\n",
       "      <th>month</th>\n",
       "    </tr>\n",
       "  </thead>\n",
       "  <tbody>\n",
       "    <tr>\n",
       "      <th>0</th>\n",
       "      <td>0</td>\n",
       "      <td>2016</td>\n",
       "      <td>01001</td>\n",
       "      <td>54312</td>\n",
       "      <td>0</td>\n",
       "    </tr>\n",
       "    <tr>\n",
       "      <th>1</th>\n",
       "      <td>1</td>\n",
       "      <td>2017</td>\n",
       "      <td>01001</td>\n",
       "      <td>53948</td>\n",
       "      <td>1</td>\n",
       "    </tr>\n",
       "    <tr>\n",
       "      <th>2</th>\n",
       "      <td>2</td>\n",
       "      <td>2017</td>\n",
       "      <td>01001</td>\n",
       "      <td>53584</td>\n",
       "      <td>2</td>\n",
       "    </tr>\n",
       "    <tr>\n",
       "      <th>3</th>\n",
       "      <td>3</td>\n",
       "      <td>2017</td>\n",
       "      <td>01001</td>\n",
       "      <td>53221</td>\n",
       "      <td>3</td>\n",
       "    </tr>\n",
       "    <tr>\n",
       "      <th>4</th>\n",
       "      <td>4</td>\n",
       "      <td>2017</td>\n",
       "      <td>01001</td>\n",
       "      <td>52857</td>\n",
       "      <td>4</td>\n",
       "    </tr>\n",
       "  </tbody>\n",
       "</table>\n",
       "</div>"
      ],
      "text/plain": [
       "   index  year   fips    pop  month\n",
       "0      0  2016  01001  54312      0\n",
       "1      1  2017  01001  53948      1\n",
       "2      2  2017  01001  53584      2\n",
       "3      3  2017  01001  53221      3\n",
       "4      4  2017  01001  52857      4"
      ]
     },
     "execution_count": 26,
     "metadata": {},
     "output_type": "execute_result"
    }
   ],
   "source": [
    "sliced_dfs = divideDataframe(pop)\n",
    "new_dfs = []\n",
    "for slice in sliced_dfs:\n",
    "    new_slice = linear_interpolation(slice)\n",
    "    new_dfs.append(new_slice)\n",
    "    \n",
    "df_new = pd.concat(new_dfs)\n",
    "df_new.head()"
   ]
  },
  {
   "cell_type": "code",
   "execution_count": 27,
   "id": "874bb1af-bd68-402b-adc3-995a79b06d12",
   "metadata": {},
   "outputs": [
    {
     "data": {
      "text/html": [
       "<div>\n",
       "<style scoped>\n",
       "    .dataframe tbody tr th:only-of-type {\n",
       "        vertical-align: middle;\n",
       "    }\n",
       "\n",
       "    .dataframe tbody tr th {\n",
       "        vertical-align: top;\n",
       "    }\n",
       "\n",
       "    .dataframe thead th {\n",
       "        text-align: right;\n",
       "    }\n",
       "</style>\n",
       "<table border=\"1\" class=\"dataframe\">\n",
       "  <thead>\n",
       "    <tr style=\"text-align: right;\">\n",
       "      <th></th>\n",
       "      <th>index</th>\n",
       "      <th>year</th>\n",
       "      <th>fips</th>\n",
       "      <th>pop</th>\n",
       "      <th>month</th>\n",
       "    </tr>\n",
       "  </thead>\n",
       "  <tbody>\n",
       "    <tr>\n",
       "      <th>0</th>\n",
       "      <td>0</td>\n",
       "      <td>2016</td>\n",
       "      <td>01001</td>\n",
       "      <td>54312</td>\n",
       "      <td>0</td>\n",
       "    </tr>\n",
       "    <tr>\n",
       "      <th>1</th>\n",
       "      <td>1</td>\n",
       "      <td>2017</td>\n",
       "      <td>01001</td>\n",
       "      <td>53948</td>\n",
       "      <td>1</td>\n",
       "    </tr>\n",
       "    <tr>\n",
       "      <th>2</th>\n",
       "      <td>2</td>\n",
       "      <td>2017</td>\n",
       "      <td>01001</td>\n",
       "      <td>53584</td>\n",
       "      <td>2</td>\n",
       "    </tr>\n",
       "    <tr>\n",
       "      <th>3</th>\n",
       "      <td>3</td>\n",
       "      <td>2017</td>\n",
       "      <td>01001</td>\n",
       "      <td>53221</td>\n",
       "      <td>3</td>\n",
       "    </tr>\n",
       "    <tr>\n",
       "      <th>4</th>\n",
       "      <td>4</td>\n",
       "      <td>2017</td>\n",
       "      <td>01001</td>\n",
       "      <td>52857</td>\n",
       "      <td>4</td>\n",
       "    </tr>\n",
       "    <tr>\n",
       "      <th>...</th>\n",
       "      <td>...</td>\n",
       "      <td>...</td>\n",
       "      <td>...</td>\n",
       "      <td>...</td>\n",
       "      <td>...</td>\n",
       "    </tr>\n",
       "    <tr>\n",
       "      <th>8</th>\n",
       "      <td>8</td>\n",
       "      <td>2017</td>\n",
       "      <td>56045</td>\n",
       "      <td>6273</td>\n",
       "      <td>8</td>\n",
       "    </tr>\n",
       "    <tr>\n",
       "      <th>9</th>\n",
       "      <td>9</td>\n",
       "      <td>2017</td>\n",
       "      <td>56045</td>\n",
       "      <td>6306</td>\n",
       "      <td>9</td>\n",
       "    </tr>\n",
       "    <tr>\n",
       "      <th>10</th>\n",
       "      <td>10</td>\n",
       "      <td>2017</td>\n",
       "      <td>56045</td>\n",
       "      <td>6338</td>\n",
       "      <td>10</td>\n",
       "    </tr>\n",
       "    <tr>\n",
       "      <th>11</th>\n",
       "      <td>11</td>\n",
       "      <td>2017</td>\n",
       "      <td>56045</td>\n",
       "      <td>6371</td>\n",
       "      <td>11</td>\n",
       "    </tr>\n",
       "    <tr>\n",
       "      <th>12</th>\n",
       "      <td>12</td>\n",
       "      <td>2017</td>\n",
       "      <td>56045</td>\n",
       "      <td>6404</td>\n",
       "      <td>12</td>\n",
       "    </tr>\n",
       "  </tbody>\n",
       "</table>\n",
       "<p>40846 rows × 5 columns</p>\n",
       "</div>"
      ],
      "text/plain": [
       "    index  year   fips    pop  month\n",
       "0       0  2016  01001  54312      0\n",
       "1       1  2017  01001  53948      1\n",
       "2       2  2017  01001  53584      2\n",
       "3       3  2017  01001  53221      3\n",
       "4       4  2017  01001  52857      4\n",
       "..    ...   ...    ...    ...    ...\n",
       "8       8  2017  56045   6273      8\n",
       "9       9  2017  56045   6306      9\n",
       "10     10  2017  56045   6338     10\n",
       "11     11  2017  56045   6371     11\n",
       "12     12  2017  56045   6404     12\n",
       "\n",
       "[40846 rows x 5 columns]"
      ]
     },
     "execution_count": 27,
     "metadata": {},
     "output_type": "execute_result"
    }
   ],
   "source": [
    "df_new"
   ]
  },
  {
   "cell_type": "code",
   "execution_count": 28,
   "id": "dba18aaa-0219-44ad-9d4a-94d3b204ab1b",
   "metadata": {},
   "outputs": [
    {
     "data": {
      "text/plain": [
       "40755"
      ]
     },
     "execution_count": 28,
     "metadata": {},
     "output_type": "execute_result"
    }
   ],
   "source": [
    "3135 + 3135*12"
   ]
  },
  {
   "cell_type": "code",
   "execution_count": 29,
   "id": "9ecbea03-49bd-4581-a9e2-2e6d84fc539d",
   "metadata": {},
   "outputs": [
    {
     "data": {
      "text/html": [
       "<div>\n",
       "<style scoped>\n",
       "    .dataframe tbody tr th:only-of-type {\n",
       "        vertical-align: middle;\n",
       "    }\n",
       "\n",
       "    .dataframe tbody tr th {\n",
       "        vertical-align: top;\n",
       "    }\n",
       "\n",
       "    .dataframe thead th {\n",
       "        text-align: right;\n",
       "    }\n",
       "</style>\n",
       "<table border=\"1\" class=\"dataframe\">\n",
       "  <thead>\n",
       "    <tr style=\"text-align: right;\">\n",
       "      <th></th>\n",
       "      <th>index</th>\n",
       "      <th>year</th>\n",
       "      <th>fips</th>\n",
       "      <th>pop</th>\n",
       "      <th>month</th>\n",
       "    </tr>\n",
       "  </thead>\n",
       "  <tbody>\n",
       "    <tr>\n",
       "      <th>1</th>\n",
       "      <td>1</td>\n",
       "      <td>2017</td>\n",
       "      <td>01001</td>\n",
       "      <td>53948</td>\n",
       "      <td>1</td>\n",
       "    </tr>\n",
       "    <tr>\n",
       "      <th>2</th>\n",
       "      <td>2</td>\n",
       "      <td>2017</td>\n",
       "      <td>01001</td>\n",
       "      <td>53584</td>\n",
       "      <td>2</td>\n",
       "    </tr>\n",
       "    <tr>\n",
       "      <th>3</th>\n",
       "      <td>3</td>\n",
       "      <td>2017</td>\n",
       "      <td>01001</td>\n",
       "      <td>53221</td>\n",
       "      <td>3</td>\n",
       "    </tr>\n",
       "    <tr>\n",
       "      <th>4</th>\n",
       "      <td>4</td>\n",
       "      <td>2017</td>\n",
       "      <td>01001</td>\n",
       "      <td>52857</td>\n",
       "      <td>4</td>\n",
       "    </tr>\n",
       "    <tr>\n",
       "      <th>5</th>\n",
       "      <td>5</td>\n",
       "      <td>2017</td>\n",
       "      <td>01001</td>\n",
       "      <td>52494</td>\n",
       "      <td>5</td>\n",
       "    </tr>\n",
       "  </tbody>\n",
       "</table>\n",
       "</div>"
      ],
      "text/plain": [
       "   index  year   fips    pop  month\n",
       "1      1  2017  01001  53948      1\n",
       "2      2  2017  01001  53584      2\n",
       "3      3  2017  01001  53221      3\n",
       "4      4  2017  01001  52857      4\n",
       "5      5  2017  01001  52494      5"
      ]
     },
     "execution_count": 29,
     "metadata": {},
     "output_type": "execute_result"
    }
   ],
   "source": [
    "df_monthly = df_new[df_new['year'] == current]\n",
    "df_monthly.head()"
   ]
  },
  {
   "cell_type": "code",
   "execution_count": 30,
   "id": "4f71384e-39a8-48b9-846b-8ef5852a8b99",
   "metadata": {},
   "outputs": [
    {
     "name": "stderr",
     "output_type": "stream",
     "text": [
      "/global/homes/w/wenhuan/.conda/envs/myenv/lib/python3.7/site-packages/ipykernel_launcher.py:3: SettingWithCopyWarning: \n",
      "A value is trying to be set on a copy of a slice from a DataFrame.\n",
      "Try using .loc[row_indexer,col_indexer] = value instead\n",
      "\n",
      "See the caveats in the documentation: https://pandas.pydata.org/pandas-docs/stable/user_guide/indexing.html#returning-a-view-versus-a-copy\n",
      "  This is separate from the ipykernel package so we can avoid doing imports until\n"
     ]
    },
    {
     "data": {
      "text/html": [
       "<div>\n",
       "<style scoped>\n",
       "    .dataframe tbody tr th:only-of-type {\n",
       "        vertical-align: middle;\n",
       "    }\n",
       "\n",
       "    .dataframe tbody tr th {\n",
       "        vertical-align: top;\n",
       "    }\n",
       "\n",
       "    .dataframe thead th {\n",
       "        text-align: right;\n",
       "    }\n",
       "</style>\n",
       "<table border=\"1\" class=\"dataframe\">\n",
       "  <thead>\n",
       "    <tr style=\"text-align: right;\">\n",
       "      <th></th>\n",
       "      <th>index</th>\n",
       "      <th>year</th>\n",
       "      <th>fips</th>\n",
       "      <th>pop</th>\n",
       "      <th>month</th>\n",
       "    </tr>\n",
       "  </thead>\n",
       "  <tbody>\n",
       "    <tr>\n",
       "      <th>1</th>\n",
       "      <td>1</td>\n",
       "      <td>2017</td>\n",
       "      <td>01001</td>\n",
       "      <td>53948</td>\n",
       "      <td>Jan</td>\n",
       "    </tr>\n",
       "    <tr>\n",
       "      <th>2</th>\n",
       "      <td>2</td>\n",
       "      <td>2017</td>\n",
       "      <td>01001</td>\n",
       "      <td>53584</td>\n",
       "      <td>Feb</td>\n",
       "    </tr>\n",
       "    <tr>\n",
       "      <th>3</th>\n",
       "      <td>3</td>\n",
       "      <td>2017</td>\n",
       "      <td>01001</td>\n",
       "      <td>53221</td>\n",
       "      <td>Mar</td>\n",
       "    </tr>\n",
       "    <tr>\n",
       "      <th>4</th>\n",
       "      <td>4</td>\n",
       "      <td>2017</td>\n",
       "      <td>01001</td>\n",
       "      <td>52857</td>\n",
       "      <td>Apr</td>\n",
       "    </tr>\n",
       "    <tr>\n",
       "      <th>5</th>\n",
       "      <td>5</td>\n",
       "      <td>2017</td>\n",
       "      <td>01001</td>\n",
       "      <td>52494</td>\n",
       "      <td>May</td>\n",
       "    </tr>\n",
       "  </tbody>\n",
       "</table>\n",
       "</div>"
      ],
      "text/plain": [
       "   index  year   fips    pop month\n",
       "1      1  2017  01001  53948   Jan\n",
       "2      2  2017  01001  53584   Feb\n",
       "3      3  2017  01001  53221   Mar\n",
       "4      4  2017  01001  52857   Apr\n",
       "5      5  2017  01001  52494   May"
      ]
     },
     "execution_count": 30,
     "metadata": {},
     "output_type": "execute_result"
    }
   ],
   "source": [
    "replace_month = {1: 'Jan', 2: 'Feb', 3: 'Mar', 4: 'Apr', 5: 'May', 6: 'Jun', 7: 'Jul', 8: 'Aug', 9: 'Sep', \n",
    "                10: 'Oct', 11: 'Nov', 12: 'Dec'}\n",
    "df_monthly['month'] = df_monthly['month'].replace(replace_month)\n",
    "df_monthly.head()"
   ]
  },
  {
   "cell_type": "code",
   "execution_count": 31,
   "id": "a461a4f7-3980-46c9-a750-e124442f27a7",
   "metadata": {},
   "outputs": [
    {
     "data": {
      "text/html": [
       "<div>\n",
       "<style scoped>\n",
       "    .dataframe tbody tr th:only-of-type {\n",
       "        vertical-align: middle;\n",
       "    }\n",
       "\n",
       "    .dataframe tbody tr th {\n",
       "        vertical-align: top;\n",
       "    }\n",
       "\n",
       "    .dataframe thead th {\n",
       "        text-align: right;\n",
       "    }\n",
       "</style>\n",
       "<table border=\"1\" class=\"dataframe\">\n",
       "  <thead>\n",
       "    <tr style=\"text-align: right;\">\n",
       "      <th></th>\n",
       "      <th>year</th>\n",
       "      <th>fips</th>\n",
       "      <th>pop</th>\n",
       "      <th>month</th>\n",
       "    </tr>\n",
       "  </thead>\n",
       "  <tbody>\n",
       "    <tr>\n",
       "      <th>1</th>\n",
       "      <td>2017</td>\n",
       "      <td>01001</td>\n",
       "      <td>53948</td>\n",
       "      <td>Jan</td>\n",
       "    </tr>\n",
       "    <tr>\n",
       "      <th>2</th>\n",
       "      <td>2017</td>\n",
       "      <td>01001</td>\n",
       "      <td>53584</td>\n",
       "      <td>Feb</td>\n",
       "    </tr>\n",
       "    <tr>\n",
       "      <th>3</th>\n",
       "      <td>2017</td>\n",
       "      <td>01001</td>\n",
       "      <td>53221</td>\n",
       "      <td>Mar</td>\n",
       "    </tr>\n",
       "    <tr>\n",
       "      <th>4</th>\n",
       "      <td>2017</td>\n",
       "      <td>01001</td>\n",
       "      <td>52857</td>\n",
       "      <td>Apr</td>\n",
       "    </tr>\n",
       "    <tr>\n",
       "      <th>5</th>\n",
       "      <td>2017</td>\n",
       "      <td>01001</td>\n",
       "      <td>52494</td>\n",
       "      <td>May</td>\n",
       "    </tr>\n",
       "  </tbody>\n",
       "</table>\n",
       "</div>"
      ],
      "text/plain": [
       "   year   fips    pop month\n",
       "1  2017  01001  53948   Jan\n",
       "2  2017  01001  53584   Feb\n",
       "3  2017  01001  53221   Mar\n",
       "4  2017  01001  52857   Apr\n",
       "5  2017  01001  52494   May"
      ]
     },
     "execution_count": 31,
     "metadata": {},
     "output_type": "execute_result"
    }
   ],
   "source": [
    "df_monthly = df_monthly.drop('index', axis = 1)\n",
    "df_monthly.head()"
   ]
  },
  {
   "cell_type": "code",
   "execution_count": 32,
   "id": "43f78c23-fb04-474c-bad8-69ac51990a66",
   "metadata": {},
   "outputs": [],
   "source": [
    "df_monthly.to_csv('Population/population_monthly/population_monthly_' + current + '.csv')"
   ]
  },
  {
   "cell_type": "code",
   "execution_count": null,
   "id": "fab40986-090e-4f0b-bb5a-2817cdc41c76",
   "metadata": {},
   "outputs": [],
   "source": []
  }
 ],
 "metadata": {
  "kernelspec": {
   "display_name": "MyEnv",
   "language": "python",
   "name": "myenv"
  },
  "language_info": {
   "codemirror_mode": {
    "name": "ipython",
    "version": 3
   },
   "file_extension": ".py",
   "mimetype": "text/x-python",
   "name": "python",
   "nbconvert_exporter": "python",
   "pygments_lexer": "ipython3",
   "version": "3.7.11"
  }
 },
 "nbformat": 4,
 "nbformat_minor": 5
}
